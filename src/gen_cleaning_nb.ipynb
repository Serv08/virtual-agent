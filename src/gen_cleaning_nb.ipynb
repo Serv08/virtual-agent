{
 "cells": [
  {
   "cell_type": "code",
   "execution_count": 3,
   "metadata": {},
   "outputs": [],
   "source": [
    "import pandas as pd\n",
    "\n",
    "# INDICATE ACTIVITY NUMBER\n",
    "ACT_NUM = 5"
   ]
  },
  {
   "cell_type": "markdown",
   "metadata": {},
   "source": [
    "## Filter CL207 transcripts only"
   ]
  },
  {
   "cell_type": "code",
   "execution_count": 24,
   "metadata": {},
   "outputs": [
    {
     "data": {
      "text/html": [
       "<div>\n",
       "<style scoped>\n",
       "    .dataframe tbody tr th:only-of-type {\n",
       "        vertical-align: middle;\n",
       "    }\n",
       "\n",
       "    .dataframe tbody tr th {\n",
       "        vertical-align: top;\n",
       "    }\n",
       "\n",
       "    .dataframe thead th {\n",
       "        text-align: right;\n",
       "    }\n",
       "</style>\n",
       "<table border=\"1\" class=\"dataframe\">\n",
       "  <thead>\n",
       "    <tr style=\"text-align: right;\">\n",
       "      <th></th>\n",
       "      <th>Transcript</th>\n",
       "    </tr>\n",
       "  </thead>\n",
       "  <tbody>\n",
       "    <tr>\n",
       "      <th>0</th>\n",
       "      <td>Put the needle on the record</td>\n",
       "    </tr>\n",
       "    <tr>\n",
       "      <th>6</th>\n",
       "      <td>Uh, doing very well</td>\n",
       "    </tr>\n",
       "    <tr>\n",
       "      <th>7</th>\n",
       "      <td>Yeah, I think I'm just generally pretty happy,...</td>\n",
       "    </tr>\n",
       "    <tr>\n",
       "      <th>8</th>\n",
       "      <td>So yeah, always, always positive</td>\n",
       "    </tr>\n",
       "    <tr>\n",
       "      <th>11</th>\n",
       "      <td>So I got in 2018</td>\n",
       "    </tr>\n",
       "    <tr>\n",
       "      <th>12</th>\n",
       "      <td>Actually, it was kind of a because I was horny</td>\n",
       "    </tr>\n",
       "    <tr>\n",
       "      <th>13</th>\n",
       "      <td>There's this good this girl in my college was ...</td>\n",
       "    </tr>\n",
       "    <tr>\n",
       "      <th>14</th>\n",
       "      <td>I was like, no, no fucking clue what the fuck ...</td>\n",
       "    </tr>\n",
       "    <tr>\n",
       "      <th>15</th>\n",
       "      <td>But you know, her, her thighs were crazy</td>\n",
       "    </tr>\n",
       "    <tr>\n",
       "      <th>16</th>\n",
       "      <td>I just followed her to the blockchain club</td>\n",
       "    </tr>\n",
       "  </tbody>\n",
       "</table>\n",
       "</div>"
      ],
      "text/plain": [
       "                                           Transcript\n",
       "0                        Put the needle on the record\n",
       "6                                 Uh, doing very well\n",
       "7   Yeah, I think I'm just generally pretty happy,...\n",
       "8                    So yeah, always, always positive\n",
       "11                                   So I got in 2018\n",
       "12     Actually, it was kind of a because I was horny\n",
       "13  There's this good this girl in my college was ...\n",
       "14  I was like, no, no fucking clue what the fuck ...\n",
       "15           But you know, her, her thighs were crazy\n",
       "16         I just followed her to the blockchain club"
      ]
     },
     "execution_count": 24,
     "metadata": {},
     "output_type": "execute_result"
    }
   ],
   "source": [
    "\n",
    "\n",
    "# read file from a folder\n",
    "df = pd.read_csv(f'act{ACT_NUM}/dataset_all.csv')\n",
    "\n",
    "# filter transcript of only CL207\n",
    "df = df[df.speaker == 'CL207']\n",
    "\n",
    "# drop speaker column, leave only the notes\n",
    "df = df.drop(columns=['speaker'])\n",
    "\n",
    "# rename the 'text' column to 'Transcript'\n",
    "df.rename(columns={'text': 'Transcript'}, inplace=True)\n",
    "\n",
    "df.head(10)"
   ]
  },
  {
   "cell_type": "markdown",
   "metadata": {},
   "source": [
    "## Clean sentences and combine"
   ]
  },
  {
   "cell_type": "code",
   "execution_count": 25,
   "metadata": {},
   "outputs": [
    {
     "data": {
      "text/html": [
       "<div>\n",
       "<style scoped>\n",
       "    .dataframe tbody tr th:only-of-type {\n",
       "        vertical-align: middle;\n",
       "    }\n",
       "\n",
       "    .dataframe tbody tr th {\n",
       "        vertical-align: top;\n",
       "    }\n",
       "\n",
       "    .dataframe thead th {\n",
       "        text-align: right;\n",
       "    }\n",
       "</style>\n",
       "<table border=\"1\" class=\"dataframe\">\n",
       "  <thead>\n",
       "    <tr style=\"text-align: right;\">\n",
       "      <th></th>\n",
       "      <th>Transcript</th>\n",
       "    </tr>\n",
       "  </thead>\n",
       "  <tbody>\n",
       "    <tr>\n",
       "      <th>0</th>\n",
       "      <td>Put the needle on the record</td>\n",
       "    </tr>\n",
       "    <tr>\n",
       "      <th>6</th>\n",
       "      <td>Uh, doing very well</td>\n",
       "    </tr>\n",
       "    <tr>\n",
       "      <th>7</th>\n",
       "      <td>Yeah, I think I'm just generally pretty happy,...</td>\n",
       "    </tr>\n",
       "    <tr>\n",
       "      <th>8</th>\n",
       "      <td>So yeah, always, always positive</td>\n",
       "    </tr>\n",
       "    <tr>\n",
       "      <th>11</th>\n",
       "      <td>So I got in 2018</td>\n",
       "    </tr>\n",
       "    <tr>\n",
       "      <th>12</th>\n",
       "      <td>Actually, it was kind of a because I was horny</td>\n",
       "    </tr>\n",
       "    <tr>\n",
       "      <th>13</th>\n",
       "      <td>There's this good this girl in my college was ...</td>\n",
       "    </tr>\n",
       "    <tr>\n",
       "      <th>14</th>\n",
       "      <td>I was like, no, no fucking clue what the fuck ...</td>\n",
       "    </tr>\n",
       "    <tr>\n",
       "      <th>15</th>\n",
       "      <td>But you know, her, her thighs were crazy</td>\n",
       "    </tr>\n",
       "    <tr>\n",
       "      <th>16</th>\n",
       "      <td>I just followed her to the blockchain club</td>\n",
       "    </tr>\n",
       "  </tbody>\n",
       "</table>\n",
       "</div>"
      ],
      "text/plain": [
       "                                           Transcript\n",
       "0                        Put the needle on the record\n",
       "6                                 Uh, doing very well\n",
       "7   Yeah, I think I'm just generally pretty happy,...\n",
       "8                    So yeah, always, always positive\n",
       "11                                   So I got in 2018\n",
       "12     Actually, it was kind of a because I was horny\n",
       "13  There's this good this girl in my college was ...\n",
       "14  I was like, no, no fucking clue what the fuck ...\n",
       "15           But you know, her, her thighs were crazy\n",
       "16         I just followed her to the blockchain club"
      ]
     },
     "execution_count": 25,
     "metadata": {},
     "output_type": "execute_result"
    }
   ],
   "source": [
    "df[\"Transcript\"] = df[\"Transcript\"].str.replace('\"','')\n",
    "df.head(10)"
   ]
  },
  {
   "cell_type": "code",
   "execution_count": 26,
   "metadata": {},
   "outputs": [],
   "source": [
    "# Save the modified file\n",
    "# df.to_csv(f\"../scraped-data/act{ACT_NUM}/dataset_all.csv\", index=False)"
   ]
  },
  {
   "cell_type": "markdown",
   "metadata": {},
   "source": [
    "## Manual Clean"
   ]
  },
  {
   "cell_type": "markdown",
   "metadata": {},
   "source": [
    "## Adding Keywords"
   ]
  },
  {
   "cell_type": "code",
   "execution_count": 7,
   "metadata": {},
   "outputs": [
    {
     "data": {
      "text/html": [
       "<div>\n",
       "<style scoped>\n",
       "    .dataframe tbody tr th:only-of-type {\n",
       "        vertical-align: middle;\n",
       "    }\n",
       "\n",
       "    .dataframe tbody tr th {\n",
       "        vertical-align: top;\n",
       "    }\n",
       "\n",
       "    .dataframe thead th {\n",
       "        text-align: right;\n",
       "    }\n",
       "</style>\n",
       "<table border=\"1\" class=\"dataframe\">\n",
       "  <thead>\n",
       "    <tr style=\"text-align: right;\">\n",
       "      <th></th>\n",
       "      <th>Transcript</th>\n",
       "      <th>Keywords</th>\n",
       "    </tr>\n",
       "  </thead>\n",
       "  <tbody>\n",
       "    <tr>\n",
       "      <th>0</th>\n",
       "      <td>CL207 got in in 2018, CL207 started crypto bec...</td>\n",
       "      <td>None</td>\n",
       "    </tr>\n",
       "    <tr>\n",
       "      <th>1</th>\n",
       "      <td>A girl from blockchain club told CL207 XRP was...</td>\n",
       "      <td>None</td>\n",
       "    </tr>\n",
       "    <tr>\n",
       "      <th>2</th>\n",
       "      <td>CL207 bought like two grand of Bitcoin. Then i...</td>\n",
       "      <td>None</td>\n",
       "    </tr>\n",
       "    <tr>\n",
       "      <th>3</th>\n",
       "      <td>CL207 need to start using a ton of leverage. H...</td>\n",
       "      <td>None</td>\n",
       "    </tr>\n",
       "    <tr>\n",
       "      <th>4</th>\n",
       "      <td>So when CL207 was one, my mom took CL207 to a ...</td>\n",
       "      <td>None</td>\n",
       "    </tr>\n",
       "    <tr>\n",
       "      <th>5</th>\n",
       "      <td>He needs a cute nickname or evil will try to g...</td>\n",
       "      <td>None</td>\n",
       "    </tr>\n",
       "    <tr>\n",
       "      <th>6</th>\n",
       "      <td>So she started calling CL207 cat in Chinese.</td>\n",
       "      <td>None</td>\n",
       "    </tr>\n",
       "    <tr>\n",
       "      <th>7</th>\n",
       "      <td>Overtime, COVID happened, and CL207 had to put...</td>\n",
       "      <td>None</td>\n",
       "    </tr>\n",
       "    <tr>\n",
       "      <th>8</th>\n",
       "      <td>CL207 chose yellow for the hazmat suit. It is ...</td>\n",
       "      <td>None</td>\n",
       "    </tr>\n",
       "    <tr>\n",
       "      <th>9</th>\n",
       "      <td>CL207 think not near 99% of my gains is like B...</td>\n",
       "      <td>None</td>\n",
       "    </tr>\n",
       "  </tbody>\n",
       "</table>\n",
       "</div>"
      ],
      "text/plain": [
       "                                          Transcript Keywords\n",
       "0  CL207 got in in 2018, CL207 started crypto bec...     None\n",
       "1  A girl from blockchain club told CL207 XRP was...     None\n",
       "2  CL207 bought like two grand of Bitcoin. Then i...     None\n",
       "3  CL207 need to start using a ton of leverage. H...     None\n",
       "4  So when CL207 was one, my mom took CL207 to a ...     None\n",
       "5  He needs a cute nickname or evil will try to g...     None\n",
       "6       So she started calling CL207 cat in Chinese.     None\n",
       "7  Overtime, COVID happened, and CL207 had to put...     None\n",
       "8  CL207 chose yellow for the hazmat suit. It is ...     None\n",
       "9  CL207 think not near 99% of my gains is like B...     None"
      ]
     },
     "execution_count": 7,
     "metadata": {},
     "output_type": "execute_result"
    }
   ],
   "source": [
    "# load cleaned file\n",
    "cleaned_df = pd.read_csv(f'../scraped-data/act{ACT_NUM}/man-clean-file.csv', \n",
    "                         encoding='ISO-8859-1')\n",
    "\n",
    "# Add \"Keywords\" column with None values\n",
    "cleaned_df['Keywords'] = None\n",
    "\n",
    "cleaned_df.head(10)"
   ]
  },
  {
   "cell_type": "code",
   "execution_count": 11,
   "metadata": {},
   "outputs": [],
   "source": [
    "keywords_dict = {\n",
    "    'Crypto': [\n",
    "        'btc', 'bitcoin', 'eth', 'ethereum', 'altcoin', \n",
    "        'token', 'meme coins', 'crpyto', 'fork', 'binance',\n",
    "        'leverage', 'Governance Token', 'volatile', 'sol', 'solana',\n",
    "        'ripple', 'XRP', 'doge'\n",
    "        ],\n",
    "    'DeFi': [\n",
    "       'defi', 'uniswap', 'UNI', 'unisock', 'SOX', 'aave', 'dex', 'slippage',\n",
    "       'swap', 'yield', 'yield farming', 'staking', 'liquidity mining',\n",
    "       'lend', 'collateral', 'loan', 'E-girl', 'AVI', 'SNX'\n",
    "        ],\n",
    "    'CL207': [\n",
    "        'CL207', 'CL', 'CL20', 'Anonymous', 'Cat' 'twitter', \n",
    "        'gaming', 'read', 'books', 'hazmat', 'writer'\n",
    "        ],\n",
    "    'General': [\n",
    "        'Investment', 'Market', 'Technology', 'Finance', 'Innovation',\n",
    "        'Digital Currency', 'Economics', 'Trade', 'Tokenization',\n",
    "        'Regulation', 'Security', 'Privacy', 'Scalability', 'Governance',\n",
    "        'Protocol', 'Network', 'Decentralization', \n",
    "        'trading', 'liquidation', 'liquidated', 'strategy', \n",
    "        'opportunities', 'market', 'stonks', 'vulnerabilities', 'stocks', 'bond',\n",
    "        'net worth'\n",
    "    ],\n",
    "    'Politics': [\n",
    "        'politics', 'Trump'\n",
    "    ],\n",
    "    'Education': [\n",
    "        'education', 'school'\n",
    "    ],\n",
    "    'Health': [\n",
    "        'broccoli', 'berry', 'sugar', 'health'\n",
    "    ],\n",
    "}\n",
    "\n",
    "\n",
    "def tag_keywords(text):\n",
    "    tags = []\n",
    "    for category, keywords in keywords_dict.items():\n",
    "        if any(keyword.lower() in text.lower() for keyword in keywords):\n",
    "            tags.append(category)\n",
    "    return ', '.join(tags)"
   ]
  },
  {
   "cell_type": "code",
   "execution_count": 13,
   "metadata": {},
   "outputs": [
    {
     "name": "stdout",
     "output_type": "stream",
     "text": [
      "Cleaned file saved!\n"
     ]
    }
   ],
   "source": [
    "cleaned_df['Keywords'] = cleaned_df['Transcript'].apply(tag_keywords)\n",
    "\n",
    "# df.head(10)\n",
    "cleaned_df.to_csv(f\"../cleaned-data/activity-{ACT_NUM}/cl207_content_with_keywords_act{ACT_NUM}.csv\", index=False)\n",
    "\n",
    "print('Cleaned file saved!')"
   ]
  },
  {
   "cell_type": "code",
   "execution_count": 15,
   "metadata": {},
   "outputs": [],
   "source": [
    "txt_file_path = f\"../cleaned-data/activity-{ACT_NUM}/cl207_content_with_keywords_act{ACT_NUM}.csv\".replace('.csv', '.txt')\n",
    "\n",
    "with open(txt_file_path, 'w', newline='\\n') as txt_file:\n",
    "    # Write the header\n",
    "    txt_file.write(\"Content\\tKeywords\\n\")\n",
    "    for i, row in cleaned_df.iterrows():\n",
    "        content = row.get('Transcript', 'No Content Found')\n",
    "        keywords = row.get('Keywords', 'No Keywords Found')\n",
    "        txt_file.write(f\"{content}\\t{keywords}\\n\")"
   ]
  }
 ],
 "metadata": {
  "kernelspec": {
   "display_name": "base",
   "language": "python",
   "name": "python3"
  },
  "language_info": {
   "codemirror_mode": {
    "name": "ipython",
    "version": 3
   },
   "file_extension": ".py",
   "mimetype": "text/x-python",
   "name": "python",
   "nbconvert_exporter": "python",
   "pygments_lexer": "ipython3",
   "version": "3.11.4"
  }
 },
 "nbformat": 4,
 "nbformat_minor": 2
}
