{
 "cells": [
  {
   "cell_type": "code",
   "execution_count": 1,
   "metadata": {},
   "outputs": [],
   "source": [
    "import pandas as pd"
   ]
  },
  {
   "cell_type": "code",
   "execution_count": null,
   "metadata": {},
   "outputs": [],
   "source": [
    "# INDICATE ACTIVITY NUMBER\n",
    "ACT_NUM = 5\n",
    "\n",
    "# read file from a folder\n",
    "df = pd.read_csv(f'act{ACT_NUM}/dataset_all.txt')\n",
    "\n",
    "# filter transcript of only CL207\n",
    "df = df[df.speaker == 'CL207']\n",
    "\n",
    "# drop speaker column, leave only the notes\n",
    "df = df.drop(columns=['speaker'])\n",
    "\n",
    "# rename the 'text' column to 'Transcript'\n",
    "df.rename(columns={'text': 'Transcript'}, inplace=True)"
   ]
  },
  {
   "cell_type": "code",
   "execution_count": 8,
   "metadata": {},
   "outputs": [],
   "source": [
    "# Save the modified file\n",
    "df.to_csv(\"dataset_all.csv\", index=False)"
   ]
  },
  {
   "cell_type": "markdown",
   "metadata": {},
   "source": [
    "## Manual Clean"
   ]
  },
  {
   "cell_type": "markdown",
   "metadata": {},
   "source": [
    "## Adding Keywords"
   ]
  },
  {
   "cell_type": "code",
   "execution_count": null,
   "metadata": {},
   "outputs": [],
   "source": [
    "# load cleaned file\n",
    "cleaned_df = pd.read_csv(f'cleaned-data/activity-{ACT_NUM}/man-clean-file.csv')\n",
    "\n",
    "# Add \"Keywords\" column with None values\n",
    "cleaned_df['Keywords'] = None"
   ]
  },
  {
   "cell_type": "code",
   "execution_count": null,
   "metadata": {},
   "outputs": [],
   "source": [
    "keywords_dict = {\n",
    "    'Crypto': [\n",
    "        'btc', 'bitcoin', 'eth', 'ethereum', 'altcoin', \n",
    "        'token', 'meme coins', 'crpyto', 'fork', 'binance',\n",
    "        'leverage', 'Governance Token', 'volatile'\n",
    "        ],\n",
    "    'DeFi': [\n",
    "       'defi', 'uniswap', 'unisock', 'aave', 'dex', 'slippage',\n",
    "       'swap', 'yield', 'yield farming', 'staking', 'liquidity mining',\n",
    "       'lend', 'collateral', 'loan', 'E-girl'\n",
    "        ],\n",
    "    'CL207': [\n",
    "        'CL207', 'CL', 'CL20', 'Anonymous', 'Cat' 'twitter', \n",
    "        'gaming', 'read', 'books', 'hazmat'\n",
    "        ],\n",
    "    'General': [\n",
    "        'Investment', 'Market', 'Technology', 'Finance', 'Innovation',\n",
    "        'Digital Currency', 'Economics', 'Trade', 'Tokenization',\n",
    "        'Regulation', 'Security', 'Privacy', 'Scalability', 'Governance',\n",
    "        'Protocol', 'Network', 'Decentralization', \n",
    "        'trading', 'liquidation', 'liquidated', 'strategy', \n",
    "        'opportunities', 'market', 'stonks', 'vulnerabilities', 'stocks', 'bond'\n",
    "    ]\n",
    "}\n",
    "\n",
    "\n",
    "def tag_keywords(text):\n",
    "    tags = []\n",
    "    for category, keywords in keywords_dict.items():\n",
    "        if any(keyword.lower() in text.lower() for keyword in keywords):\n",
    "            tags.append(category)\n",
    "    return ', '.join(tags)"
   ]
  },
  {
   "cell_type": "code",
   "execution_count": null,
   "metadata": {},
   "outputs": [],
   "source": [
    "cleaned_df['Keywords'] = cleaned_df['Content'].apply(tag_keywords)\n",
    "\n",
    "# df.head(10)\n",
    "cleaned_df.to_csv(f\"cleaned-data/activity-{ACT_NUM}/cl207_content_with_keywords_act{ACT_NUM}\")\n",
    "\n",
    "print('Cleaned file saved!')"
   ]
  }
 ],
 "metadata": {
  "kernelspec": {
   "display_name": "base",
   "language": "python",
   "name": "python3"
  },
  "language_info": {
   "codemirror_mode": {
    "name": "ipython",
    "version": 3
   },
   "file_extension": ".py",
   "mimetype": "text/x-python",
   "name": "python",
   "nbconvert_exporter": "python",
   "pygments_lexer": "ipython3",
   "version": "3.11.4"
  }
 },
 "nbformat": 4,
 "nbformat_minor": 2
}
